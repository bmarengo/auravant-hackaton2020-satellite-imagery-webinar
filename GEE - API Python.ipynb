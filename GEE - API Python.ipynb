{
 "cells": [
  {
   "cell_type": "code",
   "execution_count": 1,
   "metadata": {},
   "outputs": [
    {
     "ename": "ModuleNotFoundError",
     "evalue": "No module named 'ee'",
     "output_type": "error",
     "traceback": [
      "\u001b[0;31m---------------------------------------------------------------------------\u001b[0m",
      "\u001b[0;31mModuleNotFoundError\u001b[0m                       Traceback (most recent call last)",
      "\u001b[0;32m<ipython-input-1-9789f3907d31>\u001b[0m in \u001b[0;36m<module>\u001b[0;34m\u001b[0m\n\u001b[0;32m----> 1\u001b[0;31m \u001b[0;32mimport\u001b[0m \u001b[0mee\u001b[0m\u001b[0;34m\u001b[0m\u001b[0;34m\u001b[0m\u001b[0m\n\u001b[0m\u001b[1;32m      2\u001b[0m \u001b[0;34m\u001b[0m\u001b[0m\n\u001b[1;32m      3\u001b[0m \u001b[0mee\u001b[0m\u001b[0;34m.\u001b[0m\u001b[0mInitialize\u001b[0m\u001b[0;34m(\u001b[0m\u001b[0;34m)\u001b[0m\u001b[0;34m\u001b[0m\u001b[0;34m\u001b[0m\u001b[0m\n",
      "\u001b[0;31mModuleNotFoundError\u001b[0m: No module named 'ee'"
     ]
    }
   ],
   "source": [
    "import ee\n",
    "\n",
    "ee.Initialize()"
   ]
  },
  {
   "cell_type": "markdown",
   "metadata": {},
   "source": [
    "#### Definición de Geometrías"
   ]
  },
  {
   "cell_type": "code",
   "execution_count": null,
   "metadata": {},
   "outputs": [],
   "source": [
    "point1 = ee.Geometry.Point([-57.50209, -35.51153], 'EPSG:4326')\n",
    "point2 = ee.Geometry.Point([-57.49819, -35.50871], 'EPSG:4326')\n",
    "\n",
    "point1 = ee.Feature(point1, {'id': 1})\n",
    "point2 = ee.Feature(point2, {'id': 2})\n",
    "\n",
    "points = ee.FeatureCollection([point1, point2])\n",
    "\n",
    "#points = points.filter(ee.Filter.eq('id',1))\n",
    "\n",
    "points"
   ]
  },
  {
   "cell_type": "markdown",
   "metadata": {},
   "source": [
    "#### Función de filtrado de nubes."
   ]
  },
  {
   "cell_type": "code",
   "execution_count": null,
   "metadata": {},
   "outputs": [],
   "source": [
    "def scl_filter(image):\n",
    "  scl = image.select('SCL')\n",
    "    .expression(\"b(0) == 2 ||(b(0) > 3 && b(0) < 8)\")\n",
    "  return image.mask(scl)"
   ]
  },
  {
   "cell_type": "markdown",
   "metadata": {},
   "source": [
    "#### Obtener imagen de Sentinel filtrando por fecha y geometría."
   ]
  },
  {
   "cell_type": "code",
   "execution_count": null,
   "metadata": {},
   "outputs": [],
   "source": [
    "start_date = '2020-04-01'\n",
    "end_date = '2020-06-01'\n",
    "\n",
    "im = ee.ImageCollection('COPERNICUS/S2_SR')\n",
    "    .filterBounds(points)\n",
    "    .filterDate(start_date, end_date)\n",
    "    .filter(ee.Filter.lt('CLOUDY_PIXEL_PERCENTAGE', 1))\n",
    "    # .map(sclFilter)\n",
    "    # .select(['B2', 'B3', 'B4'])\n",
    "    # .reduce(ee.Reducer.firstNonNull())\n",
    "im"
   ]
  },
  {
   "cell_type": "markdown",
   "metadata": {},
   "source": [
    "#### Sampleo de Geometrías"
   ]
  },
  {
   "cell_type": "code",
   "execution_count": null,
   "metadata": {},
   "outputs": [],
   "source": [
    "samples = im.sampleRegions(collection=points, projection='EPSG:4326', scale=10)\n",
    "samples"
   ]
  }
 ],
 "metadata": {
  "kernelspec": {
   "display_name": ".venv",
   "language": "python",
   "name": ".venv"
  },
  "language_info": {
   "codemirror_mode": {
    "name": "ipython",
    "version": 3
   },
   "file_extension": ".py",
   "mimetype": "text/x-python",
   "name": "python",
   "nbconvert_exporter": "python",
   "pygments_lexer": "ipython3",
   "version": "3.6.9"
  }
 },
 "nbformat": 4,
 "nbformat_minor": 4
}
